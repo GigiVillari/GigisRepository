{
 "cells": [
  {
   "cell_type": "markdown",
   "id": "dimensional-latino",
   "metadata": {},
   "source": [
    "## This notebook aim to load longitude and latitude coordinates of each Toronto neighborhood from a csv file"
   ]
  },
  {
   "cell_type": "markdown",
   "id": "weighted-assignment",
   "metadata": {},
   "source": [
    "#### First import pandas"
   ]
  },
  {
   "cell_type": "code",
   "execution_count": 7,
   "id": "martial-happening",
   "metadata": {},
   "outputs": [],
   "source": [
    "import pandas as pd"
   ]
  },
  {
   "cell_type": "code",
   "execution_count": 10,
   "id": "fabulous-webster",
   "metadata": {},
   "outputs": [],
   "source": [
    "path = \"D:\\Coursera\\IBM Data Science\\Course10\\Week3\\FinalAssigment\"\n",
    "df_coordinates = pd.read_csv(path + \"\\Geospatial_Coordinates.csv\")"
   ]
  },
  {
   "cell_type": "markdown",
   "id": "varied-startup",
   "metadata": {},
   "source": [
    "#### Show first 5 rows of the dataframe"
   ]
  },
  {
   "cell_type": "code",
   "execution_count": 11,
   "id": "damaged-supply",
   "metadata": {},
   "outputs": [
    {
     "data": {
      "text/html": [
       "<div>\n",
       "<style scoped>\n",
       "    .dataframe tbody tr th:only-of-type {\n",
       "        vertical-align: middle;\n",
       "    }\n",
       "\n",
       "    .dataframe tbody tr th {\n",
       "        vertical-align: top;\n",
       "    }\n",
       "\n",
       "    .dataframe thead th {\n",
       "        text-align: right;\n",
       "    }\n",
       "</style>\n",
       "<table border=\"1\" class=\"dataframe\">\n",
       "  <thead>\n",
       "    <tr style=\"text-align: right;\">\n",
       "      <th></th>\n",
       "      <th>Postal Code</th>\n",
       "      <th>Latitude</th>\n",
       "      <th>Longitude</th>\n",
       "    </tr>\n",
       "  </thead>\n",
       "  <tbody>\n",
       "    <tr>\n",
       "      <th>0</th>\n",
       "      <td>M1B</td>\n",
       "      <td>43.806686</td>\n",
       "      <td>-79.194353</td>\n",
       "    </tr>\n",
       "    <tr>\n",
       "      <th>1</th>\n",
       "      <td>M1C</td>\n",
       "      <td>43.784535</td>\n",
       "      <td>-79.160497</td>\n",
       "    </tr>\n",
       "    <tr>\n",
       "      <th>2</th>\n",
       "      <td>M1E</td>\n",
       "      <td>43.763573</td>\n",
       "      <td>-79.188711</td>\n",
       "    </tr>\n",
       "    <tr>\n",
       "      <th>3</th>\n",
       "      <td>M1G</td>\n",
       "      <td>43.770992</td>\n",
       "      <td>-79.216917</td>\n",
       "    </tr>\n",
       "    <tr>\n",
       "      <th>4</th>\n",
       "      <td>M1H</td>\n",
       "      <td>43.773136</td>\n",
       "      <td>-79.239476</td>\n",
       "    </tr>\n",
       "  </tbody>\n",
       "</table>\n",
       "</div>"
      ],
      "text/plain": [
       "  Postal Code   Latitude  Longitude\n",
       "0         M1B  43.806686 -79.194353\n",
       "1         M1C  43.784535 -79.160497\n",
       "2         M1E  43.763573 -79.188711\n",
       "3         M1G  43.770992 -79.216917\n",
       "4         M1H  43.773136 -79.239476"
      ]
     },
     "execution_count": 11,
     "metadata": {},
     "output_type": "execute_result"
    }
   ],
   "source": [
    "df_coordinates.head()"
   ]
  },
  {
   "cell_type": "markdown",
   "id": "applicable-counter",
   "metadata": {},
   "source": [
    "#### Now let's load csv file with postalcode, neighborhood and boroughs of Toronto as pandas dataframe"
   ]
  },
  {
   "cell_type": "code",
   "execution_count": 18,
   "id": "joined-prescription",
   "metadata": {},
   "outputs": [
    {
     "data": {
      "text/html": [
       "<div>\n",
       "<style scoped>\n",
       "    .dataframe tbody tr th:only-of-type {\n",
       "        vertical-align: middle;\n",
       "    }\n",
       "\n",
       "    .dataframe tbody tr th {\n",
       "        vertical-align: top;\n",
       "    }\n",
       "\n",
       "    .dataframe thead th {\n",
       "        text-align: right;\n",
       "    }\n",
       "</style>\n",
       "<table border=\"1\" class=\"dataframe\">\n",
       "  <thead>\n",
       "    <tr style=\"text-align: right;\">\n",
       "      <th></th>\n",
       "      <th>PostalCode</th>\n",
       "      <th>Borough</th>\n",
       "      <th>Neighborhood</th>\n",
       "    </tr>\n",
       "  </thead>\n",
       "  <tbody>\n",
       "    <tr>\n",
       "      <th>0</th>\n",
       "      <td>M3A</td>\n",
       "      <td>North York</td>\n",
       "      <td>Parkwoods</td>\n",
       "    </tr>\n",
       "    <tr>\n",
       "      <th>1</th>\n",
       "      <td>M4A</td>\n",
       "      <td>North York</td>\n",
       "      <td>Victoria Village</td>\n",
       "    </tr>\n",
       "    <tr>\n",
       "      <th>2</th>\n",
       "      <td>M5A</td>\n",
       "      <td>Downtown Toronto</td>\n",
       "      <td>Regent Park, Harbourfront</td>\n",
       "    </tr>\n",
       "    <tr>\n",
       "      <th>3</th>\n",
       "      <td>M6A</td>\n",
       "      <td>North York</td>\n",
       "      <td>Lawrence Manor, Lawrence Heights</td>\n",
       "    </tr>\n",
       "    <tr>\n",
       "      <th>4</th>\n",
       "      <td>M7A</td>\n",
       "      <td>Queen's Park</td>\n",
       "      <td>Ontario Provincial Government</td>\n",
       "    </tr>\n",
       "  </tbody>\n",
       "</table>\n",
       "</div>"
      ],
      "text/plain": [
       "  PostalCode           Borough                      Neighborhood\n",
       "0        M3A        North York                         Parkwoods\n",
       "1        M4A        North York                  Victoria Village\n",
       "2        M5A  Downtown Toronto         Regent Park, Harbourfront\n",
       "3        M6A        North York  Lawrence Manor, Lawrence Heights\n",
       "4        M7A      Queen's Park     Ontario Provincial Government"
      ]
     },
     "execution_count": 18,
     "metadata": {},
     "output_type": "execute_result"
    }
   ],
   "source": [
    "df_toronto = pd.read_csv(path + \"\\TorontoData.csv\")\n",
    "df_toronto.head()"
   ]
  },
  {
   "cell_type": "markdown",
   "id": "accurate-receiver",
   "metadata": {},
   "source": [
    "####  Before merge df_coordinates and df_toronto on postalcode to obtain the final dataframe, let's remove the empty space from \"Postal Code\" label of df_coordinates"
   ]
  },
  {
   "cell_type": "code",
   "execution_count": 15,
   "id": "useful-collapse",
   "metadata": {},
   "outputs": [
    {
     "data": {
      "text/plain": [
       "Index(['PostalCode', 'Latitude', 'Longitude'], dtype='object')"
      ]
     },
     "execution_count": 15,
     "metadata": {},
     "output_type": "execute_result"
    }
   ],
   "source": [
    "df_coordinates.rename(columns={\"Postal Code\":\"PostalCode\"}, inplace=True)\n",
    "df_coordinates.columns"
   ]
  },
  {
   "cell_type": "code",
   "execution_count": 23,
   "id": "irish-efficiency",
   "metadata": {},
   "outputs": [
    {
     "data": {
      "text/html": [
       "<div>\n",
       "<style scoped>\n",
       "    .dataframe tbody tr th:only-of-type {\n",
       "        vertical-align: middle;\n",
       "    }\n",
       "\n",
       "    .dataframe tbody tr th {\n",
       "        vertical-align: top;\n",
       "    }\n",
       "\n",
       "    .dataframe thead th {\n",
       "        text-align: right;\n",
       "    }\n",
       "</style>\n",
       "<table border=\"1\" class=\"dataframe\">\n",
       "  <thead>\n",
       "    <tr style=\"text-align: right;\">\n",
       "      <th></th>\n",
       "      <th>PostalCode</th>\n",
       "      <th>Latitude</th>\n",
       "      <th>Longitude</th>\n",
       "      <th>Borough</th>\n",
       "      <th>Neighborhood</th>\n",
       "    </tr>\n",
       "  </thead>\n",
       "  <tbody>\n",
       "    <tr>\n",
       "      <th>0</th>\n",
       "      <td>M1B</td>\n",
       "      <td>43.806686</td>\n",
       "      <td>-79.194353</td>\n",
       "      <td>Scarborough</td>\n",
       "      <td>Malvern, Rouge</td>\n",
       "    </tr>\n",
       "    <tr>\n",
       "      <th>1</th>\n",
       "      <td>M1C</td>\n",
       "      <td>43.784535</td>\n",
       "      <td>-79.160497</td>\n",
       "      <td>Scarborough</td>\n",
       "      <td>Rouge Hill, Port Union, Highland Creek</td>\n",
       "    </tr>\n",
       "    <tr>\n",
       "      <th>2</th>\n",
       "      <td>M1E</td>\n",
       "      <td>43.763573</td>\n",
       "      <td>-79.188711</td>\n",
       "      <td>Scarborough</td>\n",
       "      <td>Guildwood, Morningside, West Hill</td>\n",
       "    </tr>\n",
       "    <tr>\n",
       "      <th>3</th>\n",
       "      <td>M1G</td>\n",
       "      <td>43.770992</td>\n",
       "      <td>-79.216917</td>\n",
       "      <td>Scarborough</td>\n",
       "      <td>Woburn</td>\n",
       "    </tr>\n",
       "    <tr>\n",
       "      <th>4</th>\n",
       "      <td>M1H</td>\n",
       "      <td>43.773136</td>\n",
       "      <td>-79.239476</td>\n",
       "      <td>Scarborough</td>\n",
       "      <td>Cedarbrae</td>\n",
       "    </tr>\n",
       "    <tr>\n",
       "      <th>...</th>\n",
       "      <td>...</td>\n",
       "      <td>...</td>\n",
       "      <td>...</td>\n",
       "      <td>...</td>\n",
       "      <td>...</td>\n",
       "    </tr>\n",
       "    <tr>\n",
       "      <th>98</th>\n",
       "      <td>M9N</td>\n",
       "      <td>43.706876</td>\n",
       "      <td>-79.518188</td>\n",
       "      <td>York</td>\n",
       "      <td>Weston</td>\n",
       "    </tr>\n",
       "    <tr>\n",
       "      <th>99</th>\n",
       "      <td>M9P</td>\n",
       "      <td>43.696319</td>\n",
       "      <td>-79.532242</td>\n",
       "      <td>Etobicoke</td>\n",
       "      <td>Westmount</td>\n",
       "    </tr>\n",
       "    <tr>\n",
       "      <th>100</th>\n",
       "      <td>M9R</td>\n",
       "      <td>43.688905</td>\n",
       "      <td>-79.554724</td>\n",
       "      <td>Etobicoke</td>\n",
       "      <td>Kingsview Village, St. Phillips, Martin Grove ...</td>\n",
       "    </tr>\n",
       "    <tr>\n",
       "      <th>101</th>\n",
       "      <td>M9V</td>\n",
       "      <td>43.739416</td>\n",
       "      <td>-79.588437</td>\n",
       "      <td>Etobicoke</td>\n",
       "      <td>South Steeles, Silverstone, Humbergate, Jamest...</td>\n",
       "    </tr>\n",
       "    <tr>\n",
       "      <th>102</th>\n",
       "      <td>M9W</td>\n",
       "      <td>43.706748</td>\n",
       "      <td>-79.594054</td>\n",
       "      <td>Etobicoke Northwest</td>\n",
       "      <td>Clairville, Humberwood, Woodbine Downs, West H...</td>\n",
       "    </tr>\n",
       "  </tbody>\n",
       "</table>\n",
       "<p>103 rows × 5 columns</p>\n",
       "</div>"
      ],
      "text/plain": [
       "    PostalCode   Latitude  Longitude              Borough  \\\n",
       "0          M1B  43.806686 -79.194353          Scarborough   \n",
       "1          M1C  43.784535 -79.160497          Scarborough   \n",
       "2          M1E  43.763573 -79.188711          Scarborough   \n",
       "3          M1G  43.770992 -79.216917          Scarborough   \n",
       "4          M1H  43.773136 -79.239476          Scarborough   \n",
       "..         ...        ...        ...                  ...   \n",
       "98         M9N  43.706876 -79.518188                 York   \n",
       "99         M9P  43.696319 -79.532242            Etobicoke   \n",
       "100        M9R  43.688905 -79.554724            Etobicoke   \n",
       "101        M9V  43.739416 -79.588437            Etobicoke   \n",
       "102        M9W  43.706748 -79.594054  Etobicoke Northwest   \n",
       "\n",
       "                                          Neighborhood  \n",
       "0                                       Malvern, Rouge  \n",
       "1               Rouge Hill, Port Union, Highland Creek  \n",
       "2                    Guildwood, Morningside, West Hill  \n",
       "3                                               Woburn  \n",
       "4                                            Cedarbrae  \n",
       "..                                                 ...  \n",
       "98                                              Weston  \n",
       "99                                           Westmount  \n",
       "100  Kingsview Village, St. Phillips, Martin Grove ...  \n",
       "101  South Steeles, Silverstone, Humbergate, Jamest...  \n",
       "102  Clairville, Humberwood, Woodbine Downs, West H...  \n",
       "\n",
       "[103 rows x 5 columns]"
      ]
     },
     "execution_count": 23,
     "metadata": {},
     "output_type": "execute_result"
    }
   ],
   "source": [
    "df_final = df_coordinates.merge(df_toronto, on = \"PostalCode\")\n",
    "df_final"
   ]
  },
  {
   "cell_type": "markdown",
   "id": "proved-accreditation",
   "metadata": {},
   "source": [
    "#### Export df_final to csv file"
   ]
  },
  {
   "cell_type": "code",
   "execution_count": 24,
   "id": "fantastic-watson",
   "metadata": {},
   "outputs": [],
   "source": [
    "df_final.to_csv(path + \"\\TorontoDataCoordinates.csv\", index=False)"
   ]
  }
 ],
 "metadata": {
  "kernelspec": {
   "display_name": "Python 3",
   "language": "python",
   "name": "python3"
  },
  "language_info": {
   "codemirror_mode": {
    "name": "ipython",
    "version": 3
   },
   "file_extension": ".py",
   "mimetype": "text/x-python",
   "name": "python",
   "nbconvert_exporter": "python",
   "pygments_lexer": "ipython3",
   "version": "3.6.10"
  }
 },
 "nbformat": 4,
 "nbformat_minor": 5
}
